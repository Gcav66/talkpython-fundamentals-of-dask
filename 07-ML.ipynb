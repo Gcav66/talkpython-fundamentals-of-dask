{
 "cells": [
  {
   "cell_type": "markdown",
   "id": "bf3d47cc-d76e-4fad-97c4-117f64c7d857",
   "metadata": {},
   "source": [
    "# Dask-ML\n",
    "\n",
    "## Notebook Objectives\n",
    "* **Demonstrate scikit-learn**, a library for machine learning in Python.\n",
    "* Use **Joblib and Dask to leverage parallelism** in case of compute-bound challenges.\n",
    "* Use **Dask-ML for distributed machine learning** in case of memory-bound challenges.\n",
    "* A brief look at **machine learning in the cloud** for additional computing resources. (Optional)\n",
    "* **References** for further reading."
   ]
  },
  {
   "cell_type": "markdown",
   "id": "24da6bf0-474e-4323-b2ca-6d507dbd1bd9",
   "metadata": {},
   "source": [
    "## scikit-learn for machine learning\n",
    "\n",
    "scikit-learn is a powerful library for machine learning in Python. It provides tools for pre-processing, model training, evaluation, and more.\n",
    "\n",
    "If your model and data fits on your computer, we recommend using scikit-learn as usual with no parallelism.\n",
    "\n",
    "Let's take a look at at how you can train machine learning models in scikit-learn."
   ]
  },
  {
   "cell_type": "markdown",
   "id": "862ae9be-26be-4163-8724-e1888fc4fd9c",
   "metadata": {},
   "source": [
    "#### Creating Datasets\n",
    "\n",
    "We start by generating some synthetic data using scikit-learn's [`make_classifaction`](https://scikit-learn.org/stable/modules/generated/sklearn.datasets.make_classification.html) module. `make_classification` creates random classification problems, we create one with 100k samples and 10 features."
   ]
  },
  {
   "cell_type": "code",
   "execution_count": 6,
   "id": "eba26578-71f6-4a90-b599-0c010c9be050",
   "metadata": {},
   "outputs": [],
   "source": [
    "from sklearn.datasets import make_classification\n",
    "\n",
    "X, y = make_classification(n_samples=100_000, n_features=10, random_state=0)"
   ]
  },
  {
   "cell_type": "markdown",
   "id": "44748d91-b9b8-4a6c-8a63-49765ec98c22",
   "metadata": {},
   "source": [
    "Let's examine the X and y variables. Note that X represents the set of input variables and y the output/target variables."
   ]
  },
  {
   "cell_type": "code",
   "execution_count": 7,
   "id": "d8e0df36-cb38-4528-b70e-bf0b3eb69965",
   "metadata": {},
   "outputs": [
    {
     "data": {
      "text/plain": [
       "array([[-0.7462974 ,  0.19602952,  0.11141229,  0.59340009,  1.32627975,\n",
       "        -1.10504115, -0.63411817,  1.19223806, -0.32277383, -0.03057938],\n",
       "       [-0.74584283, -0.24857446,  0.50831426, -0.6628635 ,  1.24896798,\n",
       "         0.95601408, -2.28687281,  1.12441665, -1.53928374,  0.78151558],\n",
       "       [-0.62459237, -0.02605275, -0.18403411, -0.94905415,  1.07726998,\n",
       "         1.18669218,  0.30910096,  0.8074069 , -0.79054371,  0.059631  ],\n",
       "       [-0.99690131, -0.09017488,  0.67867704,  0.28108283,  1.71104871,\n",
       "         1.01523959,  0.78247076,  1.26565066, -1.39478782,  1.37608239],\n",
       "       [ 0.40153919,  0.29434464, -1.76744682,  1.20321684, -0.64477815,\n",
       "        -0.36214576,  0.61815685,  0.93696374,  1.26810107,  0.2989785 ]])"
      ]
     },
     "execution_count": 7,
     "metadata": {},
     "output_type": "execute_result"
    }
   ],
   "source": [
    "X[:5]"
   ]
  },
  {
   "cell_type": "code",
   "execution_count": 8,
   "id": "2da5faf7-b29b-47e2-a5b4-98182b2cdada",
   "metadata": {},
   "outputs": [
    {
     "data": {
      "text/plain": [
       "array([0, 0, 0, 0, 1])"
      ]
     },
     "execution_count": 8,
     "metadata": {},
     "output_type": "execute_result"
    }
   ],
   "source": [
    "y[:5]"
   ]
  },
  {
   "cell_type": "markdown",
   "id": "54418017-3d4b-45fc-a052-e81cb2f71adc",
   "metadata": {},
   "source": [
    "#### k-nearest neighbors Classification\n",
    "\n",
    "Next, we will implement a [k-NN classifier](https://scikit-learn.org/stable/modules/neighbors.html#classification) that creates a model based on the 'k' nearest neighbors of the query points.\n",
    "\n",
    "Scikit-learn makes it very easy to train this model. All we need to do is call the fit method, and the score method computes the accuracy (the fraction of the data the model gets correct)."
   ]
  },
  {
   "cell_type": "code",
   "execution_count": null,
   "id": "e63474a1-d763-4522-b299-64cad8c5b2ee",
   "metadata": {},
   "outputs": [],
   "source": [
    "from sklearn.neighbors import KNeighborsClassifier"
   ]
  },
  {
   "cell_type": "code",
   "execution_count": null,
   "id": "46d770e9-76a5-4c7e-ac56-76a1057ab488",
   "metadata": {},
   "outputs": [],
   "source": [
    "%%time\n",
    "\n",
    "neigh = KNeighborsClassifier(n_neighbors=3)\n",
    "clf = neigh.fit(X, y)"
   ]
  },
  {
   "cell_type": "code",
   "execution_count": null,
   "id": "1021e289-7b34-4fb1-8100-8b34fba9c250",
   "metadata": {},
   "outputs": [],
   "source": [
    "clf.score(X,y)"
   ]
  },
  {
   "cell_type": "markdown",
   "id": "d5ce56d2-3597-4c19-a5dc-858c8b3bf574",
   "metadata": {},
   "source": [
    "#### Hyperparameter Tuning\n",
    "\n",
    "Hyperparameters are some predefined attributes that impact the performance of your models. For example, in the above k-NN example, the value of k is defined ahead of time. We might want to check how the model performs with different values of k, and select the best value of k. This process of selecting the best hyperparameters is called Hyperparameter Tuning.\n",
    "\n",
    "There are many ways to tune hyerparameters, we will look at GridSearchCV in this notebook."
   ]
  },
  {
   "cell_type": "code",
   "execution_count": 10,
   "id": "80b75c4a-34c8-4238-a494-9bdf918077cf",
   "metadata": {},
   "outputs": [],
   "source": [
    "from sklearn.model_selection import GridSearchCV"
   ]
  },
  {
   "cell_type": "markdown",
   "id": "2c49df4f-9194-4289-82dc-bdf53ac0c811",
   "metadata": {},
   "source": [
    "We can specify the parameters to be explored as shown below, and then run `fit` on all the sets of parameters."
   ]
  },
  {
   "cell_type": "code",
   "execution_count": 11,
   "id": "10630bc8-f757-493c-bbe6-911db7b27cba",
   "metadata": {},
   "outputs": [],
   "source": [
    "param_grid = {\n",
    "    'n_neighbors': [3, 5, 8],\n",
    "    'weights': ['uniform', 'distance'],\n",
    "}"
   ]
  },
  {
   "cell_type": "markdown",
   "id": "f29856c5-5183-4333-be96-a27d81774bb4",
   "metadata": {},
   "source": [
    "`verbose` gives us a detailed output for each fit and `cv` is used to define the number of folds during cross-validation."
   ]
  },
  {
   "cell_type": "code",
   "execution_count": 12,
   "id": "fd0ecee7-c80f-4d8a-a94b-b11688ff0e91",
   "metadata": {},
   "outputs": [
    {
     "name": "stdout",
     "output_type": "stream",
     "text": [
      "Fitting 2 folds for each of 6 candidates, totalling 12 fits\n",
      "[CV] END .....................n_neighbors=3, weights=uniform; total time=   5.6s\n",
      "[CV] END .....................n_neighbors=3, weights=uniform; total time=   5.7s\n",
      "[CV] END ....................n_neighbors=3, weights=distance; total time=   4.3s\n",
      "[CV] END ....................n_neighbors=3, weights=distance; total time=   4.3s\n",
      "[CV] END .....................n_neighbors=5, weights=uniform; total time=   7.1s\n",
      "[CV] END .....................n_neighbors=5, weights=uniform; total time=   9.9s\n",
      "[CV] END ....................n_neighbors=5, weights=distance; total time=   7.7s\n",
      "[CV] END ....................n_neighbors=5, weights=distance; total time=   5.8s\n",
      "[CV] END .....................n_neighbors=8, weights=uniform; total time=   7.3s\n",
      "[CV] END .....................n_neighbors=8, weights=uniform; total time=   6.5s\n",
      "[CV] END ....................n_neighbors=8, weights=distance; total time=   5.3s\n",
      "[CV] END ....................n_neighbors=8, weights=distance; total time=   5.3s\n",
      "CPU times: user 1min 14s, sys: 283 ms, total: 1min 14s\n",
      "Wall time: 1min 14s\n"
     ]
    },
    {
     "data": {
      "text/plain": [
       "GridSearchCV(cv=2, estimator=KNeighborsClassifier(n_neighbors=3),\n",
       "             param_grid={'n_neighbors': [3, 5, 8],\n",
       "                         'weights': ['uniform', 'distance']},\n",
       "             verbose=2)"
      ]
     },
     "execution_count": 12,
     "metadata": {},
     "output_type": "execute_result"
    }
   ],
   "source": [
    "%%time\n",
    "\n",
    "grid_search = GridSearchCV(clf, param_grid, verbose=2, cv=2)\n",
    "grid_search.fit(X, y)"
   ]
  },
  {
   "cell_type": "markdown",
   "id": "78d5ad72-e391-4b6d-a4d6-4f36fff04623",
   "metadata": {},
   "source": [
    "Note the time taken!\n",
    "\n",
    "Now, we can check what that best parameters were and the best score they produced."
   ]
  },
  {
   "cell_type": "code",
   "execution_count": 13,
   "id": "ca3974c6-59c8-43e8-9a48-ce7773c7172c",
   "metadata": {},
   "outputs": [
    {
     "data": {
      "text/plain": [
       "{'n_neighbors': 8, 'weights': 'distance'}"
      ]
     },
     "execution_count": 13,
     "metadata": {},
     "output_type": "execute_result"
    }
   ],
   "source": [
    "grid_search.best_params_"
   ]
  },
  {
   "cell_type": "code",
   "execution_count": 14,
   "id": "f58bfcec-6518-4d9c-b0bd-5cfd81716b2d",
   "metadata": {},
   "outputs": [
    {
     "data": {
      "text/plain": [
       "0.8952100000000001"
      ]
     },
     "execution_count": 14,
     "metadata": {},
     "output_type": "execute_result"
    }
   ],
   "source": [
    "grid_search.best_score_"
   ]
  },
  {
   "cell_type": "markdown",
   "id": "8862e077-c508-42e9-894f-d910c4d33d71",
   "metadata": {},
   "source": [
    "## joblib and Dask for compute bound problems\n",
    "\n",
    "If you data fits in memory but your model is complex, a general solution is to leverage parallel computing."
   ]
  },
  {
   "cell_type": "markdown",
   "id": "eb83f047-fdcf-4793-8e26-c082dddedc9e",
   "metadata": {},
   "source": [
    "### Single machine parallelism: scikit-learn + joblib\n",
    "\n",
    "scikit-learn offers **single-machine parallelism** using a tool called Joblib. We can parallelize some algorithms by passing the number of cores in the `n_jobs` parameter.\n",
    "\n",
    "Let's look at GridSearchCV again, but this time we will use all available CPU cores. To do this, we can define `n_jobs=-1`. Note that you can also define the exact number of core to use, for example `n_jobs=4` will use 4 cores."
   ]
  },
  {
   "cell_type": "code",
   "execution_count": 15,
   "id": "a8772a9e-613d-4676-82c1-af6f7494e1de",
   "metadata": {
    "tags": []
   },
   "outputs": [
    {
     "name": "stdout",
     "output_type": "stream",
     "text": [
      "CPU times: user 176 ms, sys: 118 ms, total: 294 ms\n",
      "Wall time: 32.4 s\n"
     ]
    },
    {
     "data": {
      "text/plain": [
       "GridSearchCV(cv=2, estimator=KNeighborsClassifier(n_neighbors=3), n_jobs=-1,\n",
       "             param_grid={'n_neighbors': [3, 5, 8],\n",
       "                         'weights': ['uniform', 'distance']})"
      ]
     },
     "execution_count": 15,
     "metadata": {},
     "output_type": "execute_result"
    }
   ],
   "source": [
    "%%time\n",
    "\n",
    "grid_search = GridSearchCV(clf, param_grid, cv=2, n_jobs=-1)\n",
    "grid_search.fit(X, y)"
   ]
  },
  {
   "cell_type": "markdown",
   "id": "118dd976-5ef9-4679-8154-d5e648a6606f",
   "metadata": {},
   "source": [
    "Notice how the the compute time is almost reduced by half!"
   ]
  },
  {
   "cell_type": "markdown",
   "id": "79c483fc-a862-4280-a6a8-e941f60d8c3f",
   "metadata": {},
   "source": [
    "### Multi-machine parallelis: scikit-learn + joblib + Dask\n",
    "\n",
    "Dask offers a *parallel backend* scale this computation to a cluster. \n",
    "\n",
    "First, let's spin up a cluster and open the dashboard plots!"
   ]
  },
  {
   "cell_type": "code",
   "execution_count": 24,
   "id": "5fbe6de6-726f-47e0-9d94-44b127cd182a",
   "metadata": {},
   "outputs": [
    {
     "name": "stderr",
     "output_type": "stream",
     "text": [
      "/opt/anaconda3/envs/talkpython-dask/lib/python3.8/site-packages/distributed/node.py:151: UserWarning: Port 8787 is already in use.\n",
      "Perhaps you already have a cluster running?\n",
      "Hosting the HTTP server on port 55138 instead\n",
      "  warnings.warn(\n"
     ]
    },
    {
     "data": {
      "text/html": [
       "<table style=\"border: 2px solid white;\">\n",
       "<tr>\n",
       "<td style=\"vertical-align: top; border: 0px solid white\">\n",
       "<h3 style=\"text-align: left;\">Client</h3>\n",
       "<ul style=\"text-align: left; list-style: none; margin: 0; padding: 0;\">\n",
       "  <li><b>Scheduler: </b>tcp://127.0.0.1:55139</li>\n",
       "  <li><b>Dashboard: </b><a href='http://127.0.0.1:55138/status' target='_blank'>http://127.0.0.1:55138/status</a></li>\n",
       "</ul>\n",
       "</td>\n",
       "<td style=\"vertical-align: top; border: 0px solid white\">\n",
       "<h3 style=\"text-align: left;\">Cluster</h3>\n",
       "<ul style=\"text-align: left; list-style:none; margin: 0; padding: 0;\">\n",
       "  <li><b>Workers: </b>4</li>\n",
       "  <li><b>Cores: </b>12</li>\n",
       "  <li><b>Memory: </b>16.00 GiB</li>\n",
       "</ul>\n",
       "</td>\n",
       "</tr>\n",
       "</table>"
      ],
      "text/plain": [
       "<Client: 'tcp://127.0.0.1:55139' processes=4 threads=12, memory=16.00 GiB>"
      ]
     },
     "execution_count": 24,
     "metadata": {},
     "output_type": "execute_result"
    }
   ],
   "source": [
    "import joblib\n",
    "from dask.distributed import Client\n",
    "\n",
    "client = Client(n_workers=4)\n",
    "client"
   ]
  },
  {
   "cell_type": "markdown",
   "id": "bba07264-4902-46ca-80e2-4a9cc091101f",
   "metadata": {},
   "source": [
    "Continuing with the previous GridSearchCV Example, we can use Dask as shown below:"
   ]
  },
  {
   "cell_type": "code",
   "execution_count": 25,
   "id": "8bd919f3-bb0b-40db-9f54-fcb97ec47016",
   "metadata": {},
   "outputs": [
    {
     "name": "stdout",
     "output_type": "stream",
     "text": [
      "CPU times: user 5.3 s, sys: 2.57 s, total: 7.87 s\n",
      "Wall time: 36 s\n"
     ]
    }
   ],
   "source": [
    "%%time\n",
    "\n",
    "with joblib.parallel_backend(\"dask\", scatter=[X, y]):\n",
    "    grid_search.fit(X, y)"
   ]
  },
  {
   "cell_type": "markdown",
   "id": "c11895e1-8c77-4680-b7e9-4f1a00d2d34b",
   "metadata": {},
   "source": [
    "## Checkpoint\n",
    "\n",
    "**Question:** Fit a LogisticRegresstionCV model on the given data. Implement it with and without parallelism and note the time. Reference: [scikit-learn documentation](https://scikit-learn.org/stable/modules/generated/sklearn.linear_model.LogisticRegressionCV.html?highlight=logistic%20regression#sklearn.linear_model.LogisticRegressionCV)"
   ]
  },
  {
   "cell_type": "code",
   "execution_count": 25,
   "id": "b29d1e44-50a4-484d-b1e9-99d0721564ca",
   "metadata": {
    "tags": []
   },
   "outputs": [],
   "source": [
    "from sklearn.linear_model import LogisticRegressionCV"
   ]
  },
  {
   "cell_type": "code",
   "execution_count": null,
   "id": "a21da37a-9fd0-4c94-a60b-54b3902ef798",
   "metadata": {},
   "outputs": [],
   "source": [
    "# Your answer here"
   ]
  },
  {
   "cell_type": "code",
   "execution_count": 38,
   "id": "d45b2213-801e-49b8-910b-01e963b70c97",
   "metadata": {
    "collapsed": true,
    "jupyter": {
     "outputs_hidden": true,
     "source_hidden": true
    },
    "tags": []
   },
   "outputs": [
    {
     "name": "stdout",
     "output_type": "stream",
     "text": [
      "CPU times: user 11.3 s, sys: 206 ms, total: 11.5 s\n",
      "Wall time: 1.01 s\n"
     ]
    }
   ],
   "source": [
    "%%time\n",
    "\n",
    "# Without parallelism\n",
    "clf = LogisticRegressionCV(cv=4, random_state=0).fit(X, y)"
   ]
  },
  {
   "cell_type": "code",
   "execution_count": 40,
   "id": "3b0e9d0f-9552-47ff-9e0a-0b7709eff961",
   "metadata": {
    "collapsed": true,
    "jupyter": {
     "outputs_hidden": true,
     "source_hidden": true
    },
    "tags": []
   },
   "outputs": [
    {
     "name": "stdout",
     "output_type": "stream",
     "text": [
      "CPU times: user 265 ms, sys: 46.1 ms, total: 311 ms\n",
      "Wall time: 657 ms\n"
     ]
    }
   ],
   "source": [
    "%%time\n",
    "\n",
    "# With parallelism (We can have all 4 folds execute in parallel!)\n",
    "clf = LogisticRegressionCV(cv=4, random_state=0, n_jobs=4).fit(X, y)"
   ]
  },
  {
   "cell_type": "markdown",
   "id": "1d8e6216-ccc0-449a-ae1c-22723e6559ea",
   "metadata": {},
   "source": [
    "## Dask-ML for memory bound problems\n",
    "\n",
    "Memory-bound problems arise when your dataset is too large to even read. This is where Dask can help. In the previous course, we saw how Dask DataFrame can be used to perform pandas-like operations on larger-than-memory data. Similarly, we can use Dask-ML to perform scikit-learn-like operations on our large datasets."
   ]
  },
  {
   "cell_type": "markdown",
   "id": "73899ada-2d9e-4d56-9be0-79239d55233d",
   "metadata": {},
   "source": [
    "We can use Dask-ML on the previous GridSearchCV example, but this time, with more parameters."
   ]
  },
  {
   "cell_type": "code",
   "execution_count": 26,
   "id": "f54a1552-7fca-4fdb-b50f-2ab7d729f53c",
   "metadata": {},
   "outputs": [],
   "source": [
    "import dask_ml.model_selection as dcv"
   ]
  },
  {
   "cell_type": "code",
   "execution_count": 27,
   "id": "64c30e9e-22d4-4eb6-bac1-afb08abd2620",
   "metadata": {},
   "outputs": [],
   "source": [
    "param_grid = {\n",
    "   'n_neighbors': [3, 5, 8],\n",
    "    'weights': ['uniform', 'distance'],\n",
    "    'algorithm': ['auto', 'ball_tree'],\n",
    "}"
   ]
  },
  {
   "cell_type": "code",
   "execution_count": 28,
   "id": "549ccf50-9946-4c80-bb6d-15225a0c42e5",
   "metadata": {},
   "outputs": [
    {
     "name": "stdout",
     "output_type": "stream",
     "text": [
      "CPU times: user 34.9 s, sys: 5.52 s, total: 40.5 s\n",
      "Wall time: 4min 14s\n"
     ]
    },
    {
     "data": {
      "text/plain": [
       "GridSearchCV(cv=2, estimator=KNeighborsClassifier(n_neighbors=3),\n",
       "             param_grid={'algorithm': ['auto', 'ball_tree'],\n",
       "                         'n_neighbors': [3, 5, 8],\n",
       "                         'weights': ['uniform', 'distance']})"
      ]
     },
     "execution_count": 28,
     "metadata": {},
     "output_type": "execute_result"
    }
   ],
   "source": [
    "%%time\n",
    "\n",
    "grid_search = dcv.GridSearchCV(clf, param_grid, cv=2)\n",
    "grid_search.fit(X, y)"
   ]
  },
  {
   "cell_type": "markdown",
   "id": "d20f0266-25c3-41cf-803c-61c95f10f92e",
   "metadata": {},
   "source": [
    "Let's look at another algorithm: Logistic Regression using Dask-ML. As Dask-ML implements the scikit-learn API, the code is similar."
   ]
  },
  {
   "cell_type": "code",
   "execution_count": 29,
   "id": "f518e6a3-8f49-40e9-ae68-0d98473d9e8b",
   "metadata": {},
   "outputs": [],
   "source": [
    "from dask_ml.linear_model import LogisticRegression"
   ]
  },
  {
   "cell_type": "code",
   "execution_count": 30,
   "id": "f8ee9f60-9067-477e-95d1-3f3dcc97d543",
   "metadata": {},
   "outputs": [
    {
     "name": "stdout",
     "output_type": "stream",
     "text": [
      "CPU times: user 609 ms, sys: 136 ms, total: 744 ms\n",
      "Wall time: 1.82 s\n"
     ]
    },
    {
     "data": {
      "text/plain": [
       "0.88207"
      ]
     },
     "execution_count": 30,
     "metadata": {},
     "output_type": "execute_result"
    }
   ],
   "source": [
    "%%time\n",
    "\n",
    "clf = LogisticRegression().fit(X,y)\n",
    "clf.score(X,y)"
   ]
  },
  {
   "cell_type": "code",
   "execution_count": 31,
   "id": "135108f9-7d7b-49b5-850b-45e96bfd119b",
   "metadata": {},
   "outputs": [
    {
     "data": {
      "text/plain": [
       "array([False, False, False, False,  True])"
      ]
     },
     "execution_count": 31,
     "metadata": {},
     "output_type": "execute_result"
    }
   ],
   "source": [
    "clf.predict(X)[:5]"
   ]
  },
  {
   "cell_type": "markdown",
   "id": "84341c54-d462-4aff-b7e7-10bb92039d0f",
   "metadata": {},
   "source": [
    "That's it!"
   ]
  },
  {
   "cell_type": "markdown",
   "id": "4f24a1fe-7e2e-41ea-ace6-6b9b446d6bee",
   "metadata": {},
   "source": [
    "## Checkpoint\n",
    "\n",
    "**Question:** Use Dask-ML to implement a [Naive Bayes classifier](https://ml.dask.org/naive-bayes.html) on the given dataset."
   ]
  },
  {
   "cell_type": "code",
   "execution_count": null,
   "id": "0c8b8dfe-8d84-4426-9271-70982dfa707e",
   "metadata": {},
   "outputs": [],
   "source": [
    "# Your answer here"
   ]
  },
  {
   "cell_type": "code",
   "execution_count": 45,
   "id": "569b2337-e35b-42d8-8d3b-5a34e94c7c00",
   "metadata": {
    "collapsed": true,
    "jupyter": {
     "outputs_hidden": true
    },
    "tags": []
   },
   "outputs": [
    {
     "data": {
      "text/plain": [
       "array([0, 0, 0, 0, 1])"
      ]
     },
     "execution_count": 45,
     "metadata": {},
     "output_type": "execute_result"
    }
   ],
   "source": [
    "from dask_ml.naive_bayes import GaussianNB\n",
    "\n",
    "clf = GaussianNB().fit(X,y)\n",
    "clf.predict(X)[:5].compute()"
   ]
  },
  {
   "cell_type": "markdown",
   "id": "4b548ff7-77d2-4289-b07e-79828f9b3e0a",
   "metadata": {},
   "source": [
    "Finally, let's close the cluster."
   ]
  },
  {
   "cell_type": "code",
   "execution_count": null,
   "id": "fddf8955-eb9a-43d1-8f7a-f3a72fff84bf",
   "metadata": {},
   "outputs": [],
   "source": [
    "client.close()"
   ]
  },
  {
   "cell_type": "markdown",
   "id": "90d8a6cb-c38b-427b-8e6f-92c91a53630e",
   "metadata": {},
   "source": [
    "## Machine Learning in the Cloud (Optional)"
   ]
  },
  {
   "cell_type": "markdown",
   "id": "8bf3a52b-e1ab-4282-a490-4224a854ab80",
   "metadata": {},
   "source": [
    "As we saw in the first course, Dask can also scale this computation to the cloud! There are many ways to do this, but here, we will be using Coiled. Coiled provides cluster-as-a-service functionality to provision hosted Dask clusters. It manages software environments, networking, etc. so that we can connect to the cloud quickly.\n",
    "\n",
    "To get started, sign-up on [cloud.coiled.io](https://cloud.coiled.io) and get your coiled login token. Then in terminal (or command prompt), execute `coiled login` and share your token when prompted."
   ]
  },
  {
   "cell_type": "markdown",
   "id": "1845e4f1-595a-4f07-86e9-10c4b662ec69",
   "metadata": {},
   "source": [
    "That's it! We can work from this same notebook now. We can import coiled and create a cluster as shown below:"
   ]
  },
  {
   "cell_type": "code",
   "execution_count": 1,
   "id": "6826d61e-5b62-4149-87e1-4d4a7a17edd6",
   "metadata": {},
   "outputs": [
    {
     "data": {
      "application/vnd.jupyter.widget-view+json": {
       "model_id": "",
       "version_major": 2,
       "version_minor": 0
      },
      "text/plain": [
       "Output()"
      ]
     },
     "metadata": {},
     "output_type": "display_data"
    },
    {
     "name": "stdout",
     "output_type": "stream",
     "text": [
      "Found software environment build\n"
     ]
    },
    {
     "data": {
      "text/html": [
       "<pre style=\"white-space:pre;overflow-x:auto;line-height:normal;font-family:Menlo,'DejaVu Sans Mono',consolas,'Courier New',monospace\"></pre>\n"
      ],
      "text/plain": []
     },
     "metadata": {},
     "output_type": "display_data"
    }
   ],
   "source": [
    "import coiled\n",
    "\n",
    "cluster = coiled.Cluster(n_workers=10)"
   ]
  },
  {
   "cell_type": "code",
   "execution_count": 2,
   "id": "f154acd2-3ad9-44ee-b492-bed74e1fc445",
   "metadata": {},
   "outputs": [
    {
     "name": "stdout",
     "output_type": "stream",
     "text": [
      "Dashboard: http://ec2-54-158-32-172.compute-1.amazonaws.com:8787\n"
     ]
    },
    {
     "name": "stderr",
     "output_type": "stream",
     "text": [
      "/Users/pavithra-coiled/.conda/envs/talkpython-dask/lib/python3.8/site-packages/distributed/client.py:1186: VersionMismatchWarning: Mismatched versions found\n",
      "\n",
      "+---------+--------+-----------+---------+\n",
      "| Package | client | scheduler | workers |\n",
      "+---------+--------+-----------+---------+\n",
      "| blosc   | None   | 1.10.2    | 1.10.2  |\n",
      "| lz4     | None   | 3.1.3     | 3.1.3   |\n",
      "| numpy   | 1.20.3 | 1.21.0    | 1.21.0  |\n",
      "+---------+--------+-----------+---------+\n",
      "  warnings.warn(version_module.VersionMismatchWarning(msg[0][\"warning\"]))\n"
     ]
    }
   ],
   "source": [
    "from dask.distributed import Client\n",
    "\n",
    "client = Client(cluster)\n",
    "\n",
    "print('Dashboard:', client.dashboard_link)"
   ]
  },
  {
   "cell_type": "markdown",
   "id": "054569ea-4e3b-4dc3-8609-c0b7bf08a050",
   "metadata": {},
   "source": [
    "Note that the dashboard link points to AWS."
   ]
  },
  {
   "cell_type": "markdown",
   "id": "f4c7bb77-fef1-42cd-aa53-1ba2c499cab9",
   "metadata": {},
   "source": [
    "Now, let's implement KMeans on some generated data using sklearn and Dask-ML."
   ]
  },
  {
   "cell_type": "code",
   "execution_count": 3,
   "id": "ed46562c-5df0-4a9a-b79a-77e9c250e5e6",
   "metadata": {},
   "outputs": [],
   "source": [
    "from sklearn.datasets import make_blobs\n",
    "\n",
    "X, y = make_blobs(n_samples=100, n_features=5, random_state=0)"
   ]
  },
  {
   "cell_type": "code",
   "execution_count": 4,
   "id": "60f63e8f-7bd3-4ed9-adf9-044af675451d",
   "metadata": {},
   "outputs": [
    {
     "data": {
      "text/plain": [
       "(100, 5)"
      ]
     },
     "execution_count": 4,
     "metadata": {},
     "output_type": "execute_result"
    }
   ],
   "source": [
    "X.shape"
   ]
  },
  {
   "cell_type": "code",
   "execution_count": 5,
   "id": "df13bced-8aa3-4ade-bc2b-b376f466c9b6",
   "metadata": {},
   "outputs": [],
   "source": [
    "from dask_ml.cluster import KMeans"
   ]
  },
  {
   "cell_type": "code",
   "execution_count": 6,
   "id": "f6394c05-a31a-48f7-b2b1-a3bcc6a707d8",
   "metadata": {},
   "outputs": [
    {
     "name": "stdout",
     "output_type": "stream",
     "text": [
      "CPU times: user 883 ms, sys: 39.8 ms, total: 923 ms\n",
      "Wall time: 26 s\n"
     ]
    }
   ],
   "source": [
    "%%time\n",
    "\n",
    "clf = KMeans().fit(X)"
   ]
  },
  {
   "cell_type": "code",
   "execution_count": 7,
   "id": "81a4aaad-3d18-4fd2-8474-ac2e1c7eea53",
   "metadata": {},
   "outputs": [
    {
     "data": {
      "text/html": [
       "<table>\n",
       "<tr>\n",
       "<td>\n",
       "<table>\n",
       "  <thead>\n",
       "    <tr><td> </td><th> Array </th><th> Chunk </th></tr>\n",
       "  </thead>\n",
       "  <tbody>\n",
       "    <tr><th> Bytes </th><td> 400 B </td> <td> 32 B </td></tr>\n",
       "    <tr><th> Shape </th><td> (100,) </td> <td> (8,) </td></tr>\n",
       "    <tr><th> Count </th><td> 78 Tasks </td><td> 13 Chunks </td></tr>\n",
       "    <tr><th> Type </th><td> int32 </td><td> numpy.ndarray </td></tr>\n",
       "  </tbody>\n",
       "</table>\n",
       "</td>\n",
       "<td>\n",
       "<svg width=\"170\" height=\"75\" style=\"stroke:rgb(0,0,0);stroke-width:1\" >\n",
       "\n",
       "  <!-- Horizontal lines -->\n",
       "  <line x1=\"0\" y1=\"0\" x2=\"120\" y2=\"0\" style=\"stroke-width:2\" />\n",
       "  <line x1=\"0\" y1=\"25\" x2=\"120\" y2=\"25\" style=\"stroke-width:2\" />\n",
       "\n",
       "  <!-- Vertical lines -->\n",
       "  <line x1=\"0\" y1=\"0\" x2=\"0\" y2=\"25\" style=\"stroke-width:2\" />\n",
       "  <line x1=\"9\" y1=\"0\" x2=\"9\" y2=\"25\" />\n",
       "  <line x1=\"19\" y1=\"0\" x2=\"19\" y2=\"25\" />\n",
       "  <line x1=\"28\" y1=\"0\" x2=\"28\" y2=\"25\" />\n",
       "  <line x1=\"38\" y1=\"0\" x2=\"38\" y2=\"25\" />\n",
       "  <line x1=\"48\" y1=\"0\" x2=\"48\" y2=\"25\" />\n",
       "  <line x1=\"57\" y1=\"0\" x2=\"57\" y2=\"25\" />\n",
       "  <line x1=\"67\" y1=\"0\" x2=\"67\" y2=\"25\" />\n",
       "  <line x1=\"76\" y1=\"0\" x2=\"76\" y2=\"25\" />\n",
       "  <line x1=\"86\" y1=\"0\" x2=\"86\" y2=\"25\" />\n",
       "  <line x1=\"96\" y1=\"0\" x2=\"96\" y2=\"25\" />\n",
       "  <line x1=\"105\" y1=\"0\" x2=\"105\" y2=\"25\" />\n",
       "  <line x1=\"115\" y1=\"0\" x2=\"115\" y2=\"25\" />\n",
       "  <line x1=\"120\" y1=\"0\" x2=\"120\" y2=\"25\" style=\"stroke-width:2\" />\n",
       "\n",
       "  <!-- Colored Rectangle -->\n",
       "  <polygon points=\"0.0,0.0 120.0,0.0 120.0,25.412616514582485 0.0,25.412616514582485\" style=\"fill:#ECB172A0;stroke-width:0\"/>\n",
       "\n",
       "  <!-- Text -->\n",
       "  <text x=\"60.000000\" y=\"45.412617\" font-size=\"1.0rem\" font-weight=\"100\" text-anchor=\"middle\" >100</text>\n",
       "  <text x=\"140.000000\" y=\"12.706308\" font-size=\"1.0rem\" font-weight=\"100\" text-anchor=\"middle\" transform=\"rotate(0,140.000000,12.706308)\">1</text>\n",
       "</svg>\n",
       "</td>\n",
       "</tr>\n",
       "</table>"
      ],
      "text/plain": [
       "dask.array<astype, shape=(100,), dtype=int32, chunksize=(8,), chunktype=numpy.ndarray>"
      ]
     },
     "execution_count": 7,
     "metadata": {},
     "output_type": "execute_result"
    }
   ],
   "source": [
    "clf.labels_"
   ]
  },
  {
   "cell_type": "code",
   "execution_count": 8,
   "id": "d4f2c8ba-2ebc-4b19-9ef1-c05375bc1c36",
   "metadata": {},
   "outputs": [
    {
     "data": {
      "text/plain": [
       "array([2, 4, 0, 6, 0, 7, 7, 5, 1, 2], dtype=int32)"
      ]
     },
     "execution_count": 8,
     "metadata": {},
     "output_type": "execute_result"
    }
   ],
   "source": [
    "clf.labels_[:10].compute()"
   ]
  },
  {
   "cell_type": "code",
   "execution_count": 9,
   "id": "0b789ba3-a867-4797-b053-bd341b2a07b9",
   "metadata": {},
   "outputs": [],
   "source": [
    "client.close()"
   ]
  },
  {
   "cell_type": "markdown",
   "id": "6df48786-524b-4bd2-913f-72683176aa56",
   "metadata": {},
   "source": [
    "## References\n",
    "\n",
    "* [Dask-ML documentation](https://ml.dask.org/)\n",
    "* [Dask Examples - Machine Learning](https://examples.dask.org/machine-learning.html)\n",
    "* [Dask Tutorial - Machine Learning](https://tutorial.dask.org/08_machine_learning.html)"
   ]
  },
  {
   "cell_type": "code",
   "execution_count": null,
   "id": "ab8e02a4-6b79-448d-a090-3c17768b0b74",
   "metadata": {},
   "outputs": [],
   "source": []
  }
 ],
 "metadata": {
  "kernelspec": {
   "display_name": "Python 3",
   "language": "python",
   "name": "python3"
  },
  "language_info": {
   "codemirror_mode": {
    "name": "ipython",
    "version": 3
   },
   "file_extension": ".py",
   "mimetype": "text/x-python",
   "name": "python",
   "nbconvert_exporter": "python",
   "pygments_lexer": "ipython3",
   "version": "3.8.10"
  }
 },
 "nbformat": 4,
 "nbformat_minor": 5
}
