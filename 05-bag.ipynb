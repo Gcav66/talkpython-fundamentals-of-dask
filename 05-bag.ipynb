{
 "cells": [
  {
   "cell_type": "markdown",
   "id": "concrete-certification",
   "metadata": {},
   "source": [
    "# Dask Bag\n",
    "\n",
    "## Notebook Objectives\n",
    "* **Read and Manipulate data with Dask Bag**, high-level interface to parallelize generic Python objects.\n",
    "* **Convert Dask Bag to Dask DataFrame**.\n",
    "* **Limitations of Dask Bag**.\n",
    "* **References** for further reading."
   ]
  },
  {
   "cell_type": "markdown",
   "id": "experimental-thirty",
   "metadata": {},
   "source": [
    "## Read data with Dask Bag\n",
    "\n",
    "We can create a Dask Bag from any Python sequence: lists, dict, set, from files (json, xml), S3, etc.\n",
    "\n",
    "Before that, let's start a Cluster:"
   ]
  },
  {
   "cell_type": "code",
   "execution_count": 2,
   "id": "knowing-graduation",
   "metadata": {},
   "outputs": [
    {
     "data": {
      "text/html": [
       "<table style=\"border: 2px solid white;\">\n",
       "<tr>\n",
       "<td style=\"vertical-align: top; border: 0px solid white\">\n",
       "<h3 style=\"text-align: left;\">Client</h3>\n",
       "<ul style=\"text-align: left; list-style: none; margin: 0; padding: 0;\">\n",
       "  <li><b>Scheduler: </b>tcp://127.0.0.1:50672</li>\n",
       "  <li><b>Dashboard: </b><a href='http://127.0.0.1:8787/status' target='_blank'>http://127.0.0.1:8787/status</a></li>\n",
       "</ul>\n",
       "</td>\n",
       "<td style=\"vertical-align: top; border: 0px solid white\">\n",
       "<h3 style=\"text-align: left;\">Cluster</h3>\n",
       "<ul style=\"text-align: left; list-style:none; margin: 0; padding: 0;\">\n",
       "  <li><b>Workers: </b>4</li>\n",
       "  <li><b>Cores: </b>12</li>\n",
       "  <li><b>Memory: </b>16.00 GiB</li>\n",
       "</ul>\n",
       "</td>\n",
       "</tr>\n",
       "</table>"
      ],
      "text/plain": [
       "<Client: 'tcp://127.0.0.1:50672' processes=4 threads=12, memory=16.00 GiB>"
      ]
     },
     "execution_count": 2,
     "metadata": {},
     "output_type": "execute_result"
    }
   ],
   "source": [
    "from dask.distributed import Client\n",
    "\n",
    "client = Client(n_workers=4)\n",
    "client"
   ]
  },
  {
   "cell_type": "markdown",
   "id": "decent-overall",
   "metadata": {},
   "source": [
    "Open the dashboards!"
   ]
  },
  {
   "cell_type": "markdown",
   "id": "liable-montgomery",
   "metadata": {},
   "source": [
    "### Reading from Python sequence\n",
    "\n",
    "Here we create a Dask Bag from a Python list. You can create Bags similarly from sets and dictionaries.\n",
    "\n",
    "Data is partitioned into blocks. In the following example, there are two partitions with 5 elements each."
   ]
  },
  {
   "cell_type": "code",
   "execution_count": 3,
   "id": "christian-nancy",
   "metadata": {},
   "outputs": [
    {
     "data": {
      "text/plain": [
       "dask.bag<from_sequence, npartitions=2>"
      ]
     },
     "execution_count": 3,
     "metadata": {},
     "output_type": "execute_result"
    }
   ],
   "source": [
    "import dask.bag as db\n",
    "\n",
    "b = db.from_sequence(['Alaska', 'Minnesota', 'Georgia', 'Maine', 'West Virginia', 'California', 'South Dakota', 'Indiana', 'New York', 'Nebraska'], npartitions=2)\n",
    "b"
   ]
  },
  {
   "cell_type": "markdown",
   "id": "handmade-wilson",
   "metadata": {},
   "source": [
    "Bag object are also evaluated lazily by default, so we need to call `compute` to get the result."
   ]
  },
  {
   "cell_type": "code",
   "execution_count": 4,
   "id": "classified-split",
   "metadata": {
    "tags": []
   },
   "outputs": [
    {
     "data": {
      "text/plain": [
       "['Alaska',\n",
       " 'Minnesota',\n",
       " 'Georgia',\n",
       " 'Maine',\n",
       " 'West Virginia',\n",
       " 'California',\n",
       " 'South Dakota',\n",
       " 'Indiana',\n",
       " 'New York',\n",
       " 'Nebraska']"
      ]
     },
     "execution_count": 4,
     "metadata": {},
     "output_type": "execute_result"
    }
   ],
   "source": [
    "b.compute()"
   ]
  },
  {
   "cell_type": "markdown",
   "id": "organized-tsunami",
   "metadata": {},
   "source": [
    "`take()` can be used to show elements of the data."
   ]
  },
  {
   "cell_type": "code",
   "execution_count": 5,
   "id": "resistant-competition",
   "metadata": {},
   "outputs": [
    {
     "data": {
      "text/plain": [
       "('Alaska', 'Minnesota', 'Georgia')"
      ]
     },
     "execution_count": 5,
     "metadata": {},
     "output_type": "execute_result"
    }
   ],
   "source": [
    "b.take(3)"
   ]
  },
  {
   "cell_type": "markdown",
   "id": "consolidated-cutting",
   "metadata": {},
   "source": [
    "### Reading from JSON file\n",
    "\n",
    "Here we create a Dask Bag from the JSON files."
   ]
  },
  {
   "cell_type": "code",
   "execution_count": 6,
   "id": "animated-buyer",
   "metadata": {},
   "outputs": [
    {
     "data": {
      "text/plain": [
       "['/Users/pavithra-coiled/Developer/talkpython-dask-course/2-dask-fundamentals/data/0.json',\n",
       " '/Users/pavithra-coiled/Developer/talkpython-dask-course/2-dask-fundamentals/data/1.json',\n",
       " '/Users/pavithra-coiled/Developer/talkpython-dask-course/2-dask-fundamentals/data/2.json',\n",
       " '/Users/pavithra-coiled/Developer/talkpython-dask-course/2-dask-fundamentals/data/3.json',\n",
       " '/Users/pavithra-coiled/Developer/talkpython-dask-course/2-dask-fundamentals/data/4.json',\n",
       " '/Users/pavithra-coiled/Developer/talkpython-dask-course/2-dask-fundamentals/data/5.json',\n",
       " '/Users/pavithra-coiled/Developer/talkpython-dask-course/2-dask-fundamentals/data/6.json',\n",
       " '/Users/pavithra-coiled/Developer/talkpython-dask-course/2-dask-fundamentals/data/7.json',\n",
       " '/Users/pavithra-coiled/Developer/talkpython-dask-course/2-dask-fundamentals/data/8.json',\n",
       " '/Users/pavithra-coiled/Developer/talkpython-dask-course/2-dask-fundamentals/data/9.json']"
      ]
     },
     "execution_count": 6,
     "metadata": {},
     "output_type": "execute_result"
    }
   ],
   "source": [
    "# Create random data and store as JSON files \n",
    "\n",
    "import dask\n",
    "import json\n",
    "import os\n",
    "\n",
    "b = dask.datasets.make_people()\n",
    "b.map(json.dumps).to_textfiles('data/*.json')"
   ]
  },
  {
   "cell_type": "markdown",
   "id": "4533ad2c-47fa-45e5-b1dc-91d29147e861",
   "metadata": {},
   "source": [
    "Then, read the data using `read_text`."
   ]
  },
  {
   "cell_type": "code",
   "execution_count": 7,
   "id": "postal-newcastle",
   "metadata": {},
   "outputs": [
    {
     "data": {
      "text/plain": [
       "dask.bag<bag-from-delayed, npartitions=10>"
      ]
     },
     "execution_count": 7,
     "metadata": {},
     "output_type": "execute_result"
    }
   ],
   "source": [
    "b = db.read_text('data/*.json')\n",
    "b"
   ]
  },
  {
   "cell_type": "code",
   "execution_count": 7,
   "id": "first-lover",
   "metadata": {},
   "outputs": [
    {
     "data": {
      "text/plain": [
       "('{\"age\": 30, \"name\": [\"Darrel\", \"Soto\"], \"occupation\": \"Audiologist\", \"telephone\": \"527.475.4983\", \"address\": {\"address\": \"460 Rivas Drung\", \"city\": \"Winston-Salem\"}, \"credit-card\": {\"number\": \"2446 9077 9141 7987\", \"expiration-date\": \"09/22\"}}\\n',\n",
       " '{\"age\": 38, \"name\": [\"Sindy\", \"Campbell\"], \"occupation\": \"Foreman\", \"telephone\": \"946.885.3965\", \"address\": {\"address\": \"1185 Bass Spur\", \"city\": \"Millville\"}, \"credit-card\": {\"number\": \"4956 2525 9272 9241\", \"expiration-date\": \"08/20\"}}\\n')"
      ]
     },
     "execution_count": 7,
     "metadata": {},
     "output_type": "execute_result"
    }
   ],
   "source": [
    "b.take(2)"
   ]
  },
  {
   "cell_type": "markdown",
   "id": "marine-telling",
   "metadata": {},
   "source": [
    "Note the partitions for the 10 files in our data.\n",
    "\n",
    "The data comes out as lines of text, we can make this data more readable using `json.loads`."
   ]
  },
  {
   "cell_type": "code",
   "execution_count": 8,
   "id": "catholic-retention",
   "metadata": {},
   "outputs": [
    {
     "data": {
      "text/plain": [
       "({'age': 60,\n",
       "  'name': ['Jeffery', 'Garcia'],\n",
       "  'occupation': 'Training Consultant',\n",
       "  'telephone': '1-702-673-7969',\n",
       "  'address': {'address': '744 Langton Parade', 'city': 'Sugar Hill'},\n",
       "  'credit-card': {'number': '3745 852410 45994', 'expiration-date': '06/23'}},\n",
       " {'age': 54,\n",
       "  'name': ['Parker', 'Reed'],\n",
       "  'occupation': 'Window Dresser',\n",
       "  'telephone': '223-543-9697',\n",
       "  'address': {'address': '1065 Mill Field', 'city': 'South Portland'},\n",
       "  'credit-card': {'number': '3789 947854 38464', 'expiration-date': '09/23'}})"
      ]
     },
     "execution_count": 8,
     "metadata": {},
     "output_type": "execute_result"
    }
   ],
   "source": [
    "b = b.map(json.loads)\n",
    "b.take(2)"
   ]
  },
  {
   "cell_type": "markdown",
   "id": "civilian-booth",
   "metadata": {},
   "source": [
    "## Manipulate data with Dask Bag\n",
    "\n",
    "Bag objects have the standard functional API found in projects like the Python standard library, toolz, or pyspark, including map, filter, groupby, etc.\n",
    "\n",
    "Operations on Bag objects create new bags. "
   ]
  },
  {
   "cell_type": "markdown",
   "id": "wicked-cholesterol",
   "metadata": {},
   "source": [
    "### Filter operation\n",
    "\n",
    "Filter the file for all records having age over 25."
   ]
  },
  {
   "cell_type": "code",
   "execution_count": 9,
   "id": "important-render",
   "metadata": {},
   "outputs": [
    {
     "data": {
      "text/plain": [
       "({'age': 60,\n",
       "  'name': ['Jeffery', 'Garcia'],\n",
       "  'occupation': 'Training Consultant',\n",
       "  'telephone': '1-702-673-7969',\n",
       "  'address': {'address': '744 Langton Parade', 'city': 'Sugar Hill'},\n",
       "  'credit-card': {'number': '3745 852410 45994', 'expiration-date': '06/23'}},\n",
       " {'age': 54,\n",
       "  'name': ['Parker', 'Reed'],\n",
       "  'occupation': 'Window Dresser',\n",
       "  'telephone': '223-543-9697',\n",
       "  'address': {'address': '1065 Mill Field', 'city': 'South Portland'},\n",
       "  'credit-card': {'number': '3789 947854 38464', 'expiration-date': '09/23'}},\n",
       " {'age': 44,\n",
       "  'name': ['Nicolas', 'Duncan'],\n",
       "  'occupation': 'Forest Ranger',\n",
       "  'telephone': '064.491.6735',\n",
       "  'address': {'address': '529 Cameron Alley', 'city': 'Garner'},\n",
       "  'credit-card': {'number': '4165 7976 6426 7113',\n",
       "   'expiration-date': '11/22'}},\n",
       " {'age': 42,\n",
       "  'name': ['Patrick', 'Rasmussen'],\n",
       "  'occupation': 'Technical Clerk',\n",
       "  'telephone': '530-726-3639',\n",
       "  'address': {'address': '988 Western Shore Line', 'city': 'Yorba Linda'},\n",
       "  'credit-card': {'number': '4075 4659 6389 2457',\n",
       "   'expiration-date': '08/22'}},\n",
       " {'age': 28,\n",
       "  'name': ['Caleb', 'Allison'],\n",
       "  'occupation': 'Hospital Manager',\n",
       "  'telephone': '1-197-089-3998',\n",
       "  'address': {'address': '908 White Place', 'city': 'Salinas'},\n",
       "  'credit-card': {'number': '3766 677448 55505', 'expiration-date': '05/22'}})"
      ]
     },
     "execution_count": 9,
     "metadata": {},
     "output_type": "execute_result"
    }
   ],
   "source": [
    "b.filter(lambda record: record['age'] > 25).take(5)"
   ]
  },
  {
   "cell_type": "markdown",
   "id": "heard-solid",
   "metadata": {},
   "source": [
    "### Map operation\n",
    "\n",
    "Get only the first name."
   ]
  },
  {
   "cell_type": "code",
   "execution_count": 10,
   "id": "touched-emperor",
   "metadata": {},
   "outputs": [
    {
     "data": {
      "text/plain": [
       "('Jeffery',\n",
       " 'Parker',\n",
       " 'Nicolas',\n",
       " 'Rickie',\n",
       " 'Patrick',\n",
       " 'Caleb',\n",
       " 'Cruz',\n",
       " 'Jeanene',\n",
       " 'Wade',\n",
       " 'Jarrett')"
      ]
     },
     "execution_count": 10,
     "metadata": {},
     "output_type": "execute_result"
    }
   ],
   "source": [
    "x = b.map(lambda record: record['name'][0]).take(10)\n",
    "x"
   ]
  },
  {
   "cell_type": "markdown",
   "id": "seventh-security",
   "metadata": {
    "tags": []
   },
   "source": [
    "### Groupby Operation\n",
    "\n",
    "Group data by some function or key."
   ]
  },
  {
   "cell_type": "code",
   "execution_count": 11,
   "id": "mobile-collect",
   "metadata": {
    "tags": []
   },
   "outputs": [
    {
     "data": {
      "text/plain": [
       "[(6, ['Parker', 'Rickie']),\n",
       " (4, ['Cruz', 'Wade']),\n",
       " (7, ['Jeffery', 'Nicolas', 'Patrick', 'Jeanene', 'Jarrett']),\n",
       " (5, ['Caleb'])]"
      ]
     },
     "execution_count": 11,
     "metadata": {},
     "output_type": "execute_result"
    }
   ],
   "source": [
    "b = db.from_sequence(x, npartitions=2)\n",
    "b.groupby(len).compute()"
   ]
  },
  {
   "cell_type": "markdown",
   "id": "suitable-announcement",
   "metadata": {},
   "source": [
    "**Note:**\n",
    "\n",
    "Often we want to group data by some function or key. We can do this either with the `.groupby` method, which is straightforward but forces a full shuffle of the data (expensive) or with the harder-to-use but faster `.foldby` method, which does a streaming combined groupby and reduction.\n",
    "\n",
    "* `groupby`: Shuffles data so that all items with the same key are in the same key-value pair\n",
    "* `foldby`: Walks through the data accumulating a result per key\n",
    "\n",
    "_~ Source: [tutorial.dask.org](https://tutorial.dask.org/02_bag.html#Groupby-and-Foldby)_"
   ]
  },
  {
   "cell_type": "markdown",
   "id": "northern-interaction",
   "metadata": {},
   "source": [
    "## Checkpoint\n",
    "\n",
    "**Question:** Find all cities from the JSON data we created earlier."
   ]
  },
  {
   "cell_type": "code",
   "execution_count": null,
   "id": "subject-shoulder",
   "metadata": {},
   "outputs": [],
   "source": [
    "# Your answer here"
   ]
  },
  {
   "cell_type": "code",
   "execution_count": null,
   "id": "partial-closer",
   "metadata": {
    "jupyter": {
     "source_hidden": true
    },
    "tags": []
   },
   "outputs": [],
   "source": [
    "b = db.read_text('data/*.json').map(json.loads)\n",
    "x = b.map(lambda record: record['address']['city']).take(10)\n",
    "x"
   ]
  },
  {
   "cell_type": "markdown",
   "id": "hollow-permit",
   "metadata": {},
   "source": [
    "## Convert Dask Bag to Dask DataFrame\n",
    "\n",
    "Dask Bag can be used for simple analysis but for more complex computations, Dask DataFrame or Dask Array might be a better choice. They are faster for the same reason pandas and numpy are faster than Python. They also have more functionality suited for data analysis.\n",
    "\n",
    "`to_dataframe` method can be used to transform Dask Bag to Dask DataFrame."
   ]
  },
  {
   "cell_type": "code",
   "execution_count": 19,
   "id": "subjective-biotechnology",
   "metadata": {
    "tags": []
   },
   "outputs": [
    {
     "data": {
      "text/html": [
       "<div>\n",
       "<style scoped>\n",
       "    .dataframe tbody tr th:only-of-type {\n",
       "        vertical-align: middle;\n",
       "    }\n",
       "\n",
       "    .dataframe tbody tr th {\n",
       "        vertical-align: top;\n",
       "    }\n",
       "\n",
       "    .dataframe thead th {\n",
       "        text-align: right;\n",
       "    }\n",
       "</style>\n",
       "<table border=\"1\" class=\"dataframe\">\n",
       "  <thead>\n",
       "    <tr style=\"text-align: right;\">\n",
       "      <th></th>\n",
       "      <th>age</th>\n",
       "      <th>name</th>\n",
       "      <th>occupation</th>\n",
       "      <th>telephone</th>\n",
       "      <th>address</th>\n",
       "      <th>credit-card</th>\n",
       "    </tr>\n",
       "  </thead>\n",
       "  <tbody>\n",
       "    <tr>\n",
       "      <th>0</th>\n",
       "      <td>60</td>\n",
       "      <td>[Jeffery, Garcia]</td>\n",
       "      <td>Training Consultant</td>\n",
       "      <td>1-702-673-7969</td>\n",
       "      <td>{'address': '744 Langton Parade', 'city': 'Sug...</td>\n",
       "      <td>{'number': '3745 852410 45994', 'expiration-da...</td>\n",
       "    </tr>\n",
       "    <tr>\n",
       "      <th>1</th>\n",
       "      <td>54</td>\n",
       "      <td>[Parker, Reed]</td>\n",
       "      <td>Window Dresser</td>\n",
       "      <td>223-543-9697</td>\n",
       "      <td>{'address': '1065 Mill Field', 'city': 'South ...</td>\n",
       "      <td>{'number': '3789 947854 38464', 'expiration-da...</td>\n",
       "    </tr>\n",
       "    <tr>\n",
       "      <th>2</th>\n",
       "      <td>44</td>\n",
       "      <td>[Nicolas, Duncan]</td>\n",
       "      <td>Forest Ranger</td>\n",
       "      <td>064.491.6735</td>\n",
       "      <td>{'address': '529 Cameron Alley', 'city': 'Garn...</td>\n",
       "      <td>{'number': '4165 7976 6426 7113', 'expiration-...</td>\n",
       "    </tr>\n",
       "    <tr>\n",
       "      <th>3</th>\n",
       "      <td>23</td>\n",
       "      <td>[Rickie, Dickerson]</td>\n",
       "      <td>Chiropodist</td>\n",
       "      <td>(393) 425-7342</td>\n",
       "      <td>{'address': '733 Miramar Run', 'city': 'Shakop...</td>\n",
       "      <td>{'number': '4904 7032 6941 1961', 'expiration-...</td>\n",
       "    </tr>\n",
       "    <tr>\n",
       "      <th>4</th>\n",
       "      <td>42</td>\n",
       "      <td>[Patrick, Rasmussen]</td>\n",
       "      <td>Technical Clerk</td>\n",
       "      <td>530-726-3639</td>\n",
       "      <td>{'address': '988 Western Shore Line', 'city': ...</td>\n",
       "      <td>{'number': '4075 4659 6389 2457', 'expiration-...</td>\n",
       "    </tr>\n",
       "  </tbody>\n",
       "</table>\n",
       "</div>"
      ],
      "text/plain": [
       "   age                  name           occupation       telephone  \\\n",
       "0   60     [Jeffery, Garcia]  Training Consultant  1-702-673-7969   \n",
       "1   54        [Parker, Reed]       Window Dresser    223-543-9697   \n",
       "2   44     [Nicolas, Duncan]        Forest Ranger    064.491.6735   \n",
       "3   23   [Rickie, Dickerson]          Chiropodist  (393) 425-7342   \n",
       "4   42  [Patrick, Rasmussen]      Technical Clerk    530-726-3639   \n",
       "\n",
       "                                             address  \\\n",
       "0  {'address': '744 Langton Parade', 'city': 'Sug...   \n",
       "1  {'address': '1065 Mill Field', 'city': 'South ...   \n",
       "2  {'address': '529 Cameron Alley', 'city': 'Garn...   \n",
       "3  {'address': '733 Miramar Run', 'city': 'Shakop...   \n",
       "4  {'address': '988 Western Shore Line', 'city': ...   \n",
       "\n",
       "                                         credit-card  \n",
       "0  {'number': '3745 852410 45994', 'expiration-da...  \n",
       "1  {'number': '3789 947854 38464', 'expiration-da...  \n",
       "2  {'number': '4165 7976 6426 7113', 'expiration-...  \n",
       "3  {'number': '4904 7032 6941 1961', 'expiration-...  \n",
       "4  {'number': '4075 4659 6389 2457', 'expiration-...  "
      ]
     },
     "execution_count": 19,
     "metadata": {},
     "output_type": "execute_result"
    }
   ],
   "source": [
    "b = db.read_text('data/*.json').map(json.loads)\n",
    "df = b.to_dataframe()\n",
    "df.head()"
   ]
  },
  {
   "cell_type": "markdown",
   "id": "nominated-nothing",
   "metadata": {},
   "source": [
    "Remember to close the Cluster. :)"
   ]
  },
  {
   "cell_type": "code",
   "execution_count": 20,
   "id": "eight-fruit",
   "metadata": {},
   "outputs": [],
   "source": [
    "client.close()"
   ]
  },
  {
   "cell_type": "markdown",
   "id": "spanish-acceptance",
   "metadata": {},
   "source": [
    "## Limitations\n",
    "\n",
    "* Does not perform well on computations that include a great deal of inter-worker communication.\n",
    "* Bag operations are slower than array/DataFrame computations (Python is slower than NumPy/pandas).\n",
    "* Bag.groupby is slow. You should try to use Bag.foldby if possible.\n",
    "* Bags are immutable and so you can not change individual elements."
   ]
  },
  {
   "cell_type": "markdown",
   "id": "loose-sampling",
   "metadata": {},
   "source": [
    "## References\n",
    "* [Dask Bag documentation](https://docs.dask.org/en/latest/bag.html)\n",
    "* [Dask Bag API](https://docs.dask.org/en/latest/bag-api.html)\n",
    "* [Dask Bag examples](https://docs.dask.org/en/latest/bag-api.html)\n",
    "* [Dask Tutotial - Bag](https://tutorial.dask.org/02_bag.html)"
   ]
  },
  {
   "cell_type": "code",
   "execution_count": null,
   "id": "cardiovascular-subdivision",
   "metadata": {},
   "outputs": [],
   "source": []
  }
 ],
 "metadata": {
  "kernelspec": {
   "display_name": "Python 3",
   "language": "python",
   "name": "python3"
  },
  "language_info": {
   "codemirror_mode": {
    "name": "ipython",
    "version": 3
   },
   "file_extension": ".py",
   "mimetype": "text/x-python",
   "name": "python",
   "nbconvert_exporter": "python",
   "pygments_lexer": "ipython3",
   "version": "3.8.10"
  }
 },
 "nbformat": 4,
 "nbformat_minor": 5
}
